{
 "cells": [
  {
   "cell_type": "code",
   "execution_count": 1,
   "metadata": {},
   "outputs": [],
   "source": [
    "import requests\n",
    "import json\n",
    "import pandas as pd\n",
    "import ta"
   ]
  },
  {
   "cell_type": "code",
   "execution_count": 33,
   "metadata": {},
   "outputs": [],
   "source": [
    "def daily_df(ticker):\n",
    "\n",
    "    API_URL = \"https://www.alphavantage.co/query\"\n",
    "\n",
    "    data = {\n",
    "        \"function\": \"TIME_SERIES_DAILY\",\n",
    "        \"symbol\": ticker,\n",
    "        \"outputsize\": \"compact\",\n",
    "        \"datatype\": \"json\",\n",
    "        \"apikey\": \"PVGTC9P6IUS7XLQ9\",\n",
    "        }\n",
    "\n",
    "    response = requests.get(API_URL, params=data)\n",
    "    \n",
    "    if response.status_code == 200:\n",
    "        stock_data = response.json()\n",
    "        meta_data = stock_data['Meta Data']\n",
    "        daily_data = stock_data['Time Series (Daily)']\n",
    "        daily_dataframe_rev = pd.DataFrame.from_dict(daily_data)\n",
    "        daily_dataframe = daily_dataframe_rev.transpose()     \n",
    "        daily_dataframe.columns = ['open', 'high', 'low', 'close', 'volume']\n",
    "        for i in daily_dataframe.columns:\n",
    "            column2convert = daily_dataframe[i]\n",
    "            column_size = column2convert.size\n",
    "            for k in range(0,column_size):\n",
    "                column2convert[k] = float(column2convert[k])\n",
    "        return daily_dataframe"
   ]
  },
  {
   "cell_type": "code",
   "execution_count": 3,
   "metadata": {
    "scrolled": true
   },
   "outputs": [
    {
     "data": {
      "text/html": [
       "<div>\n",
       "<style scoped>\n",
       "    .dataframe tbody tr th:only-of-type {\n",
       "        vertical-align: middle;\n",
       "    }\n",
       "\n",
       "    .dataframe tbody tr th {\n",
       "        vertical-align: top;\n",
       "    }\n",
       "\n",
       "    .dataframe thead th {\n",
       "        text-align: right;\n",
       "    }\n",
       "</style>\n",
       "<table border=\"1\" class=\"dataframe\">\n",
       "  <thead>\n",
       "    <tr style=\"text-align: right;\">\n",
       "      <th></th>\n",
       "      <th>open</th>\n",
       "      <th>high</th>\n",
       "      <th>low</th>\n",
       "      <th>close</th>\n",
       "      <th>volume</th>\n",
       "    </tr>\n",
       "  </thead>\n",
       "  <tbody>\n",
       "    <tr>\n",
       "      <th>2019-10-25</th>\n",
       "      <td>243.1600</td>\n",
       "      <td>246.7200</td>\n",
       "      <td>242.8900</td>\n",
       "      <td>246.5800</td>\n",
       "      <td>15827692</td>\n",
       "    </tr>\n",
       "    <tr>\n",
       "      <th>2019-10-24</th>\n",
       "      <td>244.5100</td>\n",
       "      <td>244.8000</td>\n",
       "      <td>241.8100</td>\n",
       "      <td>243.5800</td>\n",
       "      <td>17318800</td>\n",
       "    </tr>\n",
       "    <tr>\n",
       "      <th>2019-10-23</th>\n",
       "      <td>242.1000</td>\n",
       "      <td>243.2400</td>\n",
       "      <td>241.2200</td>\n",
       "      <td>243.1800</td>\n",
       "      <td>18957200</td>\n",
       "    </tr>\n",
       "    <tr>\n",
       "      <th>2019-10-22</th>\n",
       "      <td>241.1600</td>\n",
       "      <td>242.2000</td>\n",
       "      <td>239.6200</td>\n",
       "      <td>239.9600</td>\n",
       "      <td>20573400</td>\n",
       "    </tr>\n",
       "    <tr>\n",
       "      <th>2019-10-21</th>\n",
       "      <td>237.5200</td>\n",
       "      <td>240.9900</td>\n",
       "      <td>237.3200</td>\n",
       "      <td>240.5100</td>\n",
       "      <td>21811800</td>\n",
       "    </tr>\n",
       "  </tbody>\n",
       "</table>\n",
       "</div>"
      ],
      "text/plain": [
       "                open      high       low     close    volume\n",
       "2019-10-25  243.1600  246.7200  242.8900  246.5800  15827692\n",
       "2019-10-24  244.5100  244.8000  241.8100  243.5800  17318800\n",
       "2019-10-23  242.1000  243.2400  241.2200  243.1800  18957200\n",
       "2019-10-22  241.1600  242.2000  239.6200  239.9600  20573400\n",
       "2019-10-21  237.5200  240.9900  237.3200  240.5100  21811800"
      ]
     },
     "execution_count": 3,
     "metadata": {},
     "output_type": "execute_result"
    }
   ],
   "source": [
    "daily_df('AAPL').head()"
   ]
  },
  {
   "cell_type": "code",
   "execution_count": 32,
   "metadata": {},
   "outputs": [
    {
     "ename": "KeyError",
     "evalue": "'Time Series (Daily)'",
     "output_type": "error",
     "traceback": [
      "\u001b[1;31m---------------------------------------------------------------------------\u001b[0m",
      "\u001b[1;31mKeyError\u001b[0m                                  Traceback (most recent call last)",
      "\u001b[1;32m<ipython-input-32-5fe5c404f783>\u001b[0m in \u001b[0;36m<module>\u001b[1;34m\u001b[0m\n\u001b[0;32m      1\u001b[0m \u001b[1;32mfor\u001b[0m \u001b[0mi\u001b[0m \u001b[1;32min\u001b[0m \u001b[0mrange\u001b[0m\u001b[1;33m(\u001b[0m\u001b[1;36m0\u001b[0m\u001b[1;33m,\u001b[0m\u001b[1;36m10\u001b[0m\u001b[1;33m)\u001b[0m\u001b[1;33m:\u001b[0m\u001b[1;33m\u001b[0m\u001b[1;33m\u001b[0m\u001b[0m\n\u001b[1;32m----> 2\u001b[1;33m     \u001b[0mdaily_df\u001b[0m\u001b[1;33m(\u001b[0m\u001b[1;34m'AAPL'\u001b[0m\u001b[1;33m)\u001b[0m\u001b[1;33m.\u001b[0m\u001b[0mhead\u001b[0m\u001b[1;33m(\u001b[0m\u001b[1;33m)\u001b[0m\u001b[1;33m\u001b[0m\u001b[1;33m\u001b[0m\u001b[0m\n\u001b[0m",
      "\u001b[1;32m<ipython-input-31-0ab1462c0e98>\u001b[0m in \u001b[0;36mdaily_df\u001b[1;34m(ticker)\u001b[0m\n\u001b[0;32m     16\u001b[0m         \u001b[0mstock_data\u001b[0m \u001b[1;33m=\u001b[0m \u001b[0mresponse\u001b[0m\u001b[1;33m.\u001b[0m\u001b[0mjson\u001b[0m\u001b[1;33m(\u001b[0m\u001b[1;33m)\u001b[0m\u001b[1;33m\u001b[0m\u001b[1;33m\u001b[0m\u001b[0m\n\u001b[0;32m     17\u001b[0m \u001b[1;31m#         meta_data = stock_data['Meta Data']\u001b[0m\u001b[1;33m\u001b[0m\u001b[1;33m\u001b[0m\u001b[1;33m\u001b[0m\u001b[0m\n\u001b[1;32m---> 18\u001b[1;33m         \u001b[0mdaily_data\u001b[0m \u001b[1;33m=\u001b[0m \u001b[0mstock_data\u001b[0m\u001b[1;33m[\u001b[0m\u001b[1;34m'Time Series (Daily)'\u001b[0m\u001b[1;33m]\u001b[0m\u001b[1;33m\u001b[0m\u001b[1;33m\u001b[0m\u001b[0m\n\u001b[0m\u001b[0;32m     19\u001b[0m         \u001b[0mdaily_dataframe_rev\u001b[0m \u001b[1;33m=\u001b[0m \u001b[0mpd\u001b[0m\u001b[1;33m.\u001b[0m\u001b[0mDataFrame\u001b[0m\u001b[1;33m.\u001b[0m\u001b[0mfrom_dict\u001b[0m\u001b[1;33m(\u001b[0m\u001b[0mdaily_data\u001b[0m\u001b[1;33m)\u001b[0m\u001b[1;33m\u001b[0m\u001b[1;33m\u001b[0m\u001b[0m\n\u001b[0;32m     20\u001b[0m         \u001b[0mdaily_dataframe\u001b[0m \u001b[1;33m=\u001b[0m \u001b[0mdaily_dataframe_rev\u001b[0m\u001b[1;33m.\u001b[0m\u001b[0mtranspose\u001b[0m\u001b[1;33m(\u001b[0m\u001b[1;33m)\u001b[0m\u001b[1;33m\u001b[0m\u001b[1;33m\u001b[0m\u001b[0m\n",
      "\u001b[1;31mKeyError\u001b[0m: 'Time Series (Daily)'"
     ]
    }
   ],
   "source": [
    "for i in range(0,10):\n",
    "    daily_df('AAPL').head()"
   ]
  },
  {
   "cell_type": "code",
   "execution_count": 22,
   "metadata": {},
   "outputs": [],
   "source": [
    "test = daily_df('AAPL')"
   ]
  },
  {
   "cell_type": "code",
   "execution_count": 11,
   "metadata": {},
   "outputs": [
    {
     "data": {
      "text/plain": [
       "pandas.core.series.Series"
      ]
     },
     "execution_count": 11,
     "metadata": {},
     "output_type": "execute_result"
    }
   ],
   "source": [
    "test_size = test['close']."
   ]
  },
  {
   "cell_type": "code",
   "execution_count": 28,
   "metadata": {},
   "outputs": [
    {
     "data": {
      "text/plain": [
       "2019-10-25    100.000000\n",
       "2019-10-24     94.062218\n",
       "2019-10-23     91.509201\n",
       "2019-10-22     87.670590\n",
       "2019-10-21     85.257537\n",
       "2019-10-18     81.620535\n",
       "2019-10-17     78.466746\n",
       "2019-10-16     75.689014\n",
       "2019-10-15     73.484670\n",
       "2019-10-14     71.676980\n",
       "2019-10-11     70.155748\n",
       "2019-10-10     67.321759\n",
       "2019-10-09     64.165651\n",
       "2019-10-08     60.847972\n",
       "2019-10-07     58.083742\n",
       "2019-10-04     55.636637\n",
       "2019-10-03     52.293788\n",
       "2019-10-02     48.997150\n",
       "2019-10-01     46.411522\n",
       "2019-09-30     44.012171\n",
       "2019-09-27     41.043914\n",
       "2019-09-26     38.468306\n",
       "2019-09-25     36.236567\n",
       "2019-09-24     33.736927\n",
       "2019-09-23     31.560244\n",
       "2019-09-20     29.452121\n",
       "2019-09-19     27.785649\n",
       "2019-09-18     26.414650\n",
       "2019-09-17     24.892484\n",
       "2019-09-16     23.401657\n",
       "                 ...    \n",
       "2019-07-18     -6.706653\n",
       "2019-07-17     -6.836624\n",
       "2019-07-16     -6.837887\n",
       "2019-07-15     -6.767637\n",
       "2019-07-12     -6.872556\n",
       "2019-07-11     -7.104354\n",
       "2019-07-10     -7.162600\n",
       "2019-07-09     -7.392846\n",
       "2019-07-08     -7.710865\n",
       "2019-07-05     -7.557809\n",
       "2019-07-03     -7.400276\n",
       "2019-07-02     -7.410815\n",
       "2019-07-01     -7.529105\n",
       "2019-06-28     -7.972723\n",
       "2019-06-27     -8.176637\n",
       "2019-06-26     -8.355282\n",
       "2019-06-25     -8.914585\n",
       "2019-06-24     -9.083019\n",
       "2019-06-21     -9.212937\n",
       "2019-06-20     -9.253242\n",
       "2019-06-19     -9.442353\n",
       "2019-06-18     -9.546946\n",
       "2019-06-17    -10.085515\n",
       "2019-06-14    -10.686293\n",
       "2019-06-13    -11.061569\n",
       "2019-06-12    -11.398400\n",
       "2019-06-11    -11.628896\n",
       "2019-06-10    -12.061867\n",
       "2019-06-07    -12.700118\n",
       "2019-06-06    -13.772418\n",
       "Name: tsi, Length: 100, dtype: float64"
      ]
     },
     "execution_count": 28,
     "metadata": {},
     "output_type": "execute_result"
    }
   ],
   "source": [
    "ta.momentum.tsi(test['close'])"
   ]
  }
 ],
 "metadata": {
  "kernelspec": {
   "display_name": "Python 3",
   "language": "python",
   "name": "python3"
  },
  "language_info": {
   "codemirror_mode": {
    "name": "ipython",
    "version": 3
   },
   "file_extension": ".py",
   "mimetype": "text/x-python",
   "name": "python",
   "nbconvert_exporter": "python",
   "pygments_lexer": "ipython3",
   "version": "3.7.3"
  }
 },
 "nbformat": 4,
 "nbformat_minor": 2
}
