{
 "cells": [
  {
   "cell_type": "code",
   "execution_count": 182,
   "metadata": {},
   "outputs": [],
   "source": [
    "import requests\n",
    "import json\n",
    "import pandas as pd\n",
    "import ta"
   ]
  },
  {
   "cell_type": "code",
   "execution_count": 181,
   "metadata": {},
   "outputs": [],
   "source": [
    "#Daily Timeframe Data Grabber\n",
    "def daily_df(ticker):\n",
    "\n",
    "    API_URL = \"https://www.alphavantage.co/query\"\n",
    "\n",
    "    data = {\n",
    "        \"function\": \"TIME_SERIES_DAILY\",\n",
    "        \"symbol\": ticker,\n",
    "        \"outputsize\": \"compact\",\n",
    "        \"datatype\": \"json\",\n",
    "        \"apikey\": \"PVGTC9P6IUS7XLQ9\",\n",
    "        }\n",
    "\n",
    "    response = requests.get(API_URL, params=data)\n",
    "    \n",
    "    if response.status_code == 200:\n",
    "        stock_data = response.json()\n",
    "        meta_data = stock_data['Meta Data']\n",
    "        daily_data = stock_data['Time Series (Daily)']\n",
    "        daily_dataframe_rev = pd.DataFrame.from_dict(daily_data)\n",
    "        daily_dataframe = daily_dataframe_rev.transpose()     \n",
    "        daily_dataframe.columns = ['open', 'high', 'low', 'close', 'volume']\n",
    "        df_entries2float(daily_dataframe)\n",
    "        return daily_dataframe"
   ]
  },
  {
   "cell_type": "code",
   "execution_count": 180,
   "metadata": {},
   "outputs": [],
   "source": [
    "#Converting dataframe entries to floats\n",
    "def df_entries2float(df):\n",
    "    for i in df.columns:\n",
    "        column2convert = df[i]\n",
    "        column_size = column2convert.size\n",
    "        for k in range(0,column_size):\n",
    "            column2convert[k] = float(column2convert[k])\n",
    "    return df"
   ]
  },
  {
   "cell_type": "code",
   "execution_count": 190,
   "metadata": {},
   "outputs": [],
   "source": [
    "#Reversing dataframe\n",
    "def rev(df):\n",
    "    return df.sort_index(ascending = True, axis = 0)"
   ]
  },
  {
   "cell_type": "code",
   "execution_count": 184,
   "metadata": {},
   "outputs": [],
   "source": [
    "#Running TA with proper formatting\n",
    "def tech_indicator(indicator, daily_df):\n",
    "    indicator_df = pd.DataFrame(indicator)\n",
    "    indicator_df = indicator_df.sort_index(ascending=False, axis=0)\n",
    "    resulting_df = daily_df.join(indicator_df)\n",
    "    return resulting_df"
   ]
  },
  {
   "cell_type": "code",
   "execution_count": null,
   "metadata": {},
   "outputs": [],
   "source": [
    "test = daily_df('DIS')\n",
    "test2 = tech_indicator((ta.momentum.rsi(rev(test['close']))), test)\n",
    "test2.head(30)"
   ]
  }
 ],
 "metadata": {
  "kernelspec": {
   "display_name": "Python 3",
   "language": "python",
   "name": "python3"
  },
  "language_info": {
   "codemirror_mode": {
    "name": "ipython",
    "version": 3
   },
   "file_extension": ".py",
   "mimetype": "text/x-python",
   "name": "python",
   "nbconvert_exporter": "python",
   "pygments_lexer": "ipython3",
   "version": "3.7.3"
  }
 },
 "nbformat": 4,
 "nbformat_minor": 2
}
